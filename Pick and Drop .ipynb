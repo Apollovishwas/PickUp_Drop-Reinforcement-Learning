{
 "cells": [
  {
   "cell_type": "code",
   "execution_count": 7,
   "id": "81c0f98c",
   "metadata": {},
   "outputs": [],
   "source": [
    "class Field:\n",
    "    def __init__(self, size, item_pickup, item_dropoff, start_position):\n",
    "        self.size = size\n",
    "        self.item_pickup = item_pickup\n",
    "        self.item_dropoff = item_dropoff\n",
    "        self.position = start_position\n",
    "        self.item_in_car = False\n",
    "        \n",
    "    def get_state(self):\n",
    "        state = self.position[0]*self.size*self.size*self.size*2\n",
    "        state = state + self.position[1]*self.size*self.size*2\n",
    "        state = state + self.item_pickup[0]*self.size*2\n",
    "        state = state + self.item_pickup[1]*2\n",
    "        \n",
    "        if self.item_in_car:\n",
    "            state = state + 1\n",
    "        return state\n",
    "        \n",
    "    def get_number_of_states(self):\n",
    "        return self.size*self.size*self.size*self.size*2\n",
    "\n",
    "    def make_action(self, action):\n",
    "        (x,y) = self.position\n",
    "        if action == 0: #down\n",
    "            if y == self.size-1:\n",
    "                return -10, False\n",
    "            else:\n",
    "                self.position = (x, y+1)\n",
    "                return -1, False\n",
    "            \n",
    "        elif action == 1: #up\n",
    "            if y == 0:\n",
    "                return -10, False\n",
    "            else:\n",
    "                self.position = (x, y-1)\n",
    "                return -1, False\n",
    "            \n",
    "        elif action == 2: #left\n",
    "            if x == 0:\n",
    "                return -10, False\n",
    "            else:\n",
    "                self.position = (x-1, y)\n",
    "                return -1, False\n",
    "                \n",
    "        elif action == 3: #right\n",
    "            if x == self.size-1:\n",
    "                return -10, False\n",
    "            else:\n",
    "                self.position = (x+1, y)\n",
    "                return -1, False\n",
    "            \n",
    "        elif action == 4: # pickup\n",
    "            if self.item_in_car:\n",
    "                return -10, False\n",
    "            elif self.item_pickup != (x,y):\n",
    "                return -10, False\n",
    "            else:\n",
    "                self.item_in_car = True\n",
    "                return 20, False\n",
    "                \n",
    "        elif action == 5: #dropoff\n",
    "            if not self.item_in_car:\n",
    "                return -10, False\n",
    "            elif self.item_dropoff != (x,y):\n",
    "                self.item_pickup = (x,y)\n",
    "                self.item_in_car = False\n",
    "                return -10, False\n",
    "            else:\n",
    "                self.item_in_car = False\n",
    "                return 20, True\n"
   ]
  },
  {
   "cell_type": "code",
   "execution_count": 67,
   "id": "bde79435",
   "metadata": {},
   "outputs": [],
   "source": [
    "size=10\n",
    "item_pickup=(0,0)\n",
    "item_dropoff=(9,9)\n",
    "start_position=(7,0)\n",
    "field = Field(size, item_pickup, item_dropoff, start_position)"
   ]
  },
  {
   "cell_type": "code",
   "execution_count": 64,
   "id": "8fa3697a",
   "metadata": {},
   "outputs": [
    {
     "data": {
      "text/plain": [
       "(8, 0)"
      ]
     },
     "execution_count": 64,
     "metadata": {},
     "output_type": "execute_result"
    }
   ],
   "source": [
    "field.position"
   ]
  },
  {
   "cell_type": "code",
   "execution_count": 68,
   "id": "63ae3c96",
   "metadata": {},
   "outputs": [
    {
     "data": {
      "text/plain": [
       "(-10, False)"
      ]
     },
     "execution_count": 68,
     "metadata": {},
     "output_type": "execute_result"
    }
   ],
   "source": [
    "field.make_action(2)\n",
    "field.make_action(2)\n",
    "field.make_action(2)\n",
    "field.make_action(2)\n",
    "field.make_action(2)\n",
    "field.make_action(2)\n",
    "field.make_action(2)\n",
    "field.make_action(2)\n",
    "field.make_action(2)"
   ]
  },
  {
   "cell_type": "code",
   "execution_count": 69,
   "id": "82141e52",
   "metadata": {},
   "outputs": [
    {
     "data": {
      "text/plain": [
       "(0, 0)"
      ]
     },
     "execution_count": 69,
     "metadata": {},
     "output_type": "execute_result"
    }
   ],
   "source": [
    "field.position"
   ]
  },
  {
   "cell_type": "code",
   "execution_count": 70,
   "id": "c80a51a9",
   "metadata": {},
   "outputs": [
    {
     "data": {
      "text/plain": [
       "(20, False)"
      ]
     },
     "execution_count": 70,
     "metadata": {},
     "output_type": "execute_result"
    }
   ],
   "source": [
    "field.make_action(4)"
   ]
  },
  {
   "cell_type": "code",
   "execution_count": 71,
   "id": "f80653f1",
   "metadata": {},
   "outputs": [
    {
     "data": {
      "text/plain": [
       "(-1, False)"
      ]
     },
     "execution_count": 71,
     "metadata": {},
     "output_type": "execute_result"
    }
   ],
   "source": [
    "field.make_action(0)\n",
    "field.make_action(0)\n",
    "field.make_action(0)\n",
    "field.make_action(0)\n",
    "field.make_action(0)\n",
    "field.make_action(0)\n",
    "field.make_action(0)\n",
    "field.make_action(0)\n",
    "field.make_action(0)\n"
   ]
  },
  {
   "cell_type": "code",
   "execution_count": 73,
   "id": "c6cefb31",
   "metadata": {},
   "outputs": [
    {
     "data": {
      "text/plain": [
       "(-10, False)"
      ]
     },
     "execution_count": 73,
     "metadata": {},
     "output_type": "execute_result"
    }
   ],
   "source": [
    "field.make_action(3)\n",
    "field.make_action(3)\n",
    "field.make_action(3)\n",
    "field.make_action(3)\n",
    "field.make_action(3)\n",
    "field.make_action(3)\n",
    "field.make_action(3)\n",
    "field.make_action(3)\n",
    "field.make_action(3)"
   ]
  },
  {
   "cell_type": "code",
   "execution_count": 74,
   "id": "cf9a4e49",
   "metadata": {},
   "outputs": [
    {
     "data": {
      "text/plain": [
       "(9, 9)"
      ]
     },
     "execution_count": 74,
     "metadata": {},
     "output_type": "execute_result"
    }
   ],
   "source": [
    "field.position\n"
   ]
  },
  {
   "cell_type": "code",
   "execution_count": 75,
   "id": "f41ff5fb",
   "metadata": {},
   "outputs": [
    {
     "data": {
      "text/plain": [
       "(20, True)"
      ]
     },
     "execution_count": 75,
     "metadata": {},
     "output_type": "execute_result"
    }
   ],
   "source": [
    "field.make_action(5)"
   ]
  },
  {
   "cell_type": "code",
   "execution_count": 3,
   "id": "8ddd63b6",
   "metadata": {},
   "outputs": [],
   "source": [
    "# Random Solution\n",
    "import random\n",
    "def random_solution():\n",
    "    size = 10\n",
    "    item_pickup = (0,0)\n",
    "    item_dropoff = (9,9)\n",
    "    start_position = (9,0)\n",
    "\n",
    "    field = Field(size, item_pickup, item_dropoff, start_position)\n",
    "    \n",
    "    done = False\n",
    "    steps = 0\n",
    "    \n",
    "    while not done:\n",
    "        action = random.randint(0,5)\n",
    "        reward, done = field.make_action(action)\n",
    "        steps = steps + 1\n",
    "        \n",
    "    return steps\n",
    "    "
   ]
  },
  {
   "cell_type": "code",
   "execution_count": 80,
   "id": "c2134ca7",
   "metadata": {},
   "outputs": [
    {
     "data": {
      "text/plain": [
       "181676"
      ]
     },
     "execution_count": 80,
     "metadata": {},
     "output_type": "execute_result"
    }
   ],
   "source": [
    "random_solution()"
   ]
  },
  {
   "cell_type": "code",
   "execution_count": 8,
   "id": "09a15eec",
   "metadata": {},
   "outputs": [],
   "source": [
    "import numpy as np\n",
    "\n",
    "#q learning Algo \n",
    "size = 10\n",
    "item_pickup = (0,0)\n",
    "item_dropoff = (9,9)\n",
    "start_position = (9,0)\n",
    "field = Field(size, item_pickup, item_dropoff, start_position)\n",
    "number_of_states = field.get_number_of_states()\n",
    "number_of_actions = 6\n",
    "\n",
    "\n",
    "\n",
    "q_table = np.zeros((number_of_states, number_of_actions))\n",
    "\n",
    "epsilon = 0.1\n",
    "alpha = 0.1\n",
    "gamma = 0.6\n",
    "\n",
    "\n",
    "\n",
    "\n",
    "for _ in range(10000):\n",
    "    field = Field(size, item_pickup, item_dropoff, start_position)\n",
    "    done = False\n",
    "    \n",
    "    while not done:\n",
    "        state = field.get_state()\n",
    "        if random.uniform(0,1) < epsilon:\n",
    "            action = random.randint(0,5) #Explore\n",
    "        else:\n",
    "            action = np.argmax(q_table[state]) #Exploit\n",
    "            \n",
    "        reward, done = field.make_action(action)\n",
    "        \n",
    "        new_state = field.get_state()\n",
    "        new_state_max = np.max(q_table[new_state])\n",
    "        \n",
    "        q_table[state, action] = (1-alpha)*q_table[state, action]+alpha*(reward+gamma*new_state_max - q_table[state, action])\n",
    "                        "
   ]
  },
  {
   "cell_type": "code",
   "execution_count": 9,
   "id": "f7d03fee",
   "metadata": {},
   "outputs": [
    {
     "data": {
      "text/plain": [
       "array([[ 0.23071429, -2.06428571, -2.06428571,  0.23071429,  9.78571429,\n",
       "        -2.06428571],\n",
       "       [-0.71428571, -5.21428571, -5.21428571, -0.71428571, -5.21428571,\n",
       "        -2.06428571],\n",
       "       [ 1.13876935, -1.        , -1.        , -0.1       ,  0.        ,\n",
       "         0.        ],\n",
       "       ...,\n",
       "       [-1.8       , -0.1       , -0.306     , -1.47294337, -1.75883129,\n",
       "        10.10310751],\n",
       "       [ 0.        ,  0.        ,  0.        ,  0.        ,  0.        ,\n",
       "         0.        ],\n",
       "       [ 0.        ,  0.        ,  0.        ,  0.        ,  0.        ,\n",
       "         0.        ]])"
      ]
     },
     "execution_count": 9,
     "metadata": {},
     "output_type": "execute_result"
    }
   ],
   "source": [
    "q_table"
   ]
  },
  {
   "cell_type": "code",
   "execution_count": 10,
   "id": "1bc77d4e",
   "metadata": {},
   "outputs": [],
   "source": [
    "def reinforcement_solution():\n",
    "    epsilon = 0.1\n",
    "    alpha = 0.1\n",
    "    gamma = 0.6\n",
    "    \n",
    "    field = Field(size, item_pickup, item_dropoff, start_position)\n",
    "    done = False\n",
    "    steps = 0\n",
    "    \n",
    "    while not done:\n",
    "        state = field.get_state()\n",
    "        if random.uniform(0,1) < epsilon:\n",
    "            action = random.randint(0,5) #Explore\n",
    "        else:\n",
    "            action = np.argmax(q_table[state]) #Exploit\n",
    "            \n",
    "        reward, done = field.make_action(action)\n",
    "        \n",
    "        new_state = field.get_state()\n",
    "        new_state_max = np.max(q_table[new_state])\n",
    "        \n",
    "        q_table[state, action] = (1-alpha)*q_table[state, action]+alpha*(reward+gamma*new_state_max - q_table[state, action])\n",
    "                        \n",
    "        steps = steps +1\n",
    "        \n",
    "    return steps"
   ]
  },
  {
   "cell_type": "code",
   "execution_count": 11,
   "id": "0f21e772",
   "metadata": {},
   "outputs": [
    {
     "data": {
      "text/plain": [
       "30"
      ]
     },
     "execution_count": 11,
     "metadata": {},
     "output_type": "execute_result"
    }
   ],
   "source": [
    "reinforcement_solution()\n"
   ]
  },
  {
   "cell_type": "code",
   "execution_count": 12,
   "id": "14dd7c20",
   "metadata": {},
   "outputs": [],
   "source": [
    "run = [reinforcement_solution() for _ in range(100)]"
   ]
  },
  {
   "cell_type": "code",
   "execution_count": 13,
   "id": "62802c82",
   "metadata": {},
   "outputs": [
    {
     "data": {
      "text/plain": [
       "41.49"
      ]
     },
     "execution_count": 13,
     "metadata": {},
     "output_type": "execute_result"
    }
   ],
   "source": [
    "sum(run)/len(run)"
   ]
  },
  {
   "cell_type": "code",
   "execution_count": null,
   "id": "fbeb57b1",
   "metadata": {},
   "outputs": [],
   "source": []
  }
 ],
 "metadata": {
  "kernelspec": {
   "display_name": "Python 3 (ipykernel)",
   "language": "python",
   "name": "python3"
  },
  "language_info": {
   "codemirror_mode": {
    "name": "ipython",
    "version": 3
   },
   "file_extension": ".py",
   "mimetype": "text/x-python",
   "name": "python",
   "nbconvert_exporter": "python",
   "pygments_lexer": "ipython3",
   "version": "3.9.7"
  }
 },
 "nbformat": 4,
 "nbformat_minor": 5
}
